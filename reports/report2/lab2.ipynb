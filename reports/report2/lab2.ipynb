{
 "cells": [
  {
   "cell_type": "code",
   "execution_count": 10,
   "metadata": {},
   "outputs": [
    {
     "name": "stderr",
     "output_type": "stream",
     "text": [
      "/tmp/ipykernel_153198/2044980229.py:7: FutureWarning: The 'delim_whitespace' keyword in pd.read_csv is deprecated and will be removed in a future version. Use ``sep='\\s+'`` instead\n",
      "  sim_data = pd.read_csv(sim_file, delim_whitespace=True)\n"
     ]
    },
    {
     "data": {
      "text/plain": [
       "(        V2   V(n002)   V(n003)   V(n004)\n",
       " 0    0.000  0.687621  2.003538  4.182712\n",
       " 1    0.025  0.670243  1.992903  4.177670\n",
       " 2    0.050  0.652864  1.982268  4.172627\n",
       " 3    0.075  0.635486  1.971633  4.167584\n",
       " 4    0.100  0.618108  1.960998  4.162542\n",
       " ..     ...       ...       ...       ...\n",
       " 196  4.900 -2.718499 -0.080961  3.194372\n",
       " 197  4.925 -2.735878 -0.091596  3.189329\n",
       " 198  4.950 -2.753256 -0.102232  3.184287\n",
       " 199  4.975 -2.770634 -0.112867  3.179244\n",
       " 200  5.000 -2.788012 -0.123502  3.174201\n",
       " \n",
       " [201 rows x 4 columns],\n",
       "     V_x    V_1    V_2    V_3\n",
       " 0   0.0  0.659  1.974  4.162\n",
       " 1   0.5  0.332  1.784  4.109\n",
       " 2   1.0 -0.008  1.574  4.008\n",
       " 3   1.5 -0.354  1.355  3.908\n",
       " 4   2.0 -0.695  1.152  3.808\n",
       " 5   2.5 -1.046  0.933  3.691\n",
       " 6   3.0 -1.389  0.730  3.608\n",
       " 7   3.5 -1.738  0.506  3.474\n",
       " 8   4.0 -2.087  0.287  3.390\n",
       " 9   4.5 -2.589  0.068  3.307\n",
       " 10  5.0 -2.940 -0.135  3.173)"
      ]
     },
     "execution_count": 10,
     "metadata": {},
     "output_type": "execute_result"
    }
   ],
   "source": [
    "import pandas as pd\n",
    "import matplotlib.pyplot as plt\n",
    "%matplotlib qt\n",
    "\n",
    "def read_and_plot(sim_file, title):\n",
    "    # Read LTSpice simulation data\n",
    "    sim_data = pd.read_csv(sim_file, delim_whitespace=True)\n",
    "\n",
    "    # Manually define your recorded values\n",
    "    recorded_data = {\n",
    "        'V_x': [0, 0.5, 1.0, 1.5, 2.0, 2.5, 3.0, 3.5, 4.0, 4.5, 5.0],\n",
    "        'V_1': [0.659, 0.332, -0.008, -0.354, -0.695, -1.046, -1.389, -1.738, -2.087, -2.589, -2.94],\n",
    "        'V_2': [1.974, 1.784, 1.574, 1.355, 1.152, 0.933, 0.730, 0.506, 0.287, 0.068, -0.135],\n",
    "        'V_3': [4.162, 4.109, 4.008, 3.908, 3.808, 3.691, 3.608, 3.474, 3.390, 3.307, 3.173]\n",
    "    }\n",
    "    rec_df = pd.DataFrame(recorded_data)\n",
    "\n",
    "    # Create 3 stacked subplots\n",
    "    fig, ax = plt.subplots(3, 1, sharex=True, figsize=(8, 10))\n",
    "\n",
    "    # Plot for V_1\n",
    "    ax[0].plot(sim_data['V2'], sim_data['V(n002)'], label='V_1 Sim', color='tab:green')\n",
    "    ax[0].scatter(rec_df['V_x'], rec_df['V_1'], color='yellow', label='V_1 Meas', edgecolors='black', zorder=5)\n",
    "    ax[0].set_ylabel('V_1 (V)')\n",
    "    ax[0].legend()\n",
    "    ax[0].grid(True)\n",
    "\n",
    "    # Plot for V_2\n",
    "    ax[1].plot(sim_data['V2'], sim_data['V(n003)'], label='V_2 Sim', color='tab:red')\n",
    "    ax[1].scatter(rec_df['V_x'], rec_df['V_2'], color='yellow', label='V_2 Meas', marker='s', edgecolors='black', zorder=5)\n",
    "    ax[1].set_ylabel('V_2 (V)')\n",
    "    ax[1].legend()\n",
    "    ax[1].grid(True)\n",
    "\n",
    "    # Plot for V_3\n",
    "    ax[2].plot(sim_data['V2'], sim_data['V(n004)'], label='V_3 Sim', color='tab:blue')\n",
    "    ax[2].scatter(rec_df['V_x'], rec_df['V_3'], color='yellow', label='V_3 Meas', marker='^', edgecolors='black', zorder=5)\n",
    "    ax[2].set_xlabel('Source Voltage (V)')\n",
    "    ax[2].set_ylabel('V_3 (V)')\n",
    "    ax[2].legend()\n",
    "    ax[2].grid(True)\n",
    "\n",
    "    fig.suptitle(title)\n",
    "    fig.tight_layout(rect=[0, 0, 1, 0.97])  # Leave room for the title\n",
    "    plt.show()\n",
    "    return sim_data, rec_df\n",
    "\n",
    "# Example usage\n",
    "read_and_plot('/home/art/school/ece2001/reports/report2/circuit2.txt', 'Measured vs Simulated Voltages - Circuit 2')\n"
   ]
  }
 ],
 "metadata": {
  "kernelspec": {
   "display_name": ".venv",
   "language": "python",
   "name": "python3"
  },
  "language_info": {
   "codemirror_mode": {
    "name": "ipython",
    "version": 3
   },
   "file_extension": ".py",
   "mimetype": "text/x-python",
   "name": "python",
   "nbconvert_exporter": "python",
   "pygments_lexer": "ipython3",
   "version": "3.12.7"
  }
 },
 "nbformat": 4,
 "nbformat_minor": 2
}
