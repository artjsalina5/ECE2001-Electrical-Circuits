{
 "cells": [
  {
   "cell_type": "code",
   "execution_count": 1,
   "metadata": {},
   "outputs": [],
   "source": [
    "import pandas as pd\n",
    "import numpy as np\n",
    "import matplotlib.pyplot as plt\n",
    "%matplotlib qt"
   ]
  },
  {
   "cell_type": "code",
   "execution_count": 2,
   "metadata": {},
   "outputs": [
    {
     "name": "stderr",
     "output_type": "stream",
     "text": [
      "/tmp/ipykernel_152888/3472205894.py:5: FutureWarning: The 'delim_whitespace' keyword in pd.read_csv is deprecated and will be removed in a future version. Use ``sep='\\s+'`` instead\n",
      "  data = pd.read_csv(file_path, delim_whitespace=True)\n",
      "/tmp/ipykernel_152888/3472205894.py:5: FutureWarning: The 'delim_whitespace' keyword in pd.read_csv is deprecated and will be removed in a future version. Use ``sep='\\s+'`` instead\n",
      "  data = pd.read_csv(file_path, delim_whitespace=True)\n",
      "/tmp/ipykernel_152888/3472205894.py:5: FutureWarning: The 'delim_whitespace' keyword in pd.read_csv is deprecated and will be removed in a future version. Use ``sep='\\s+'`` instead\n",
      "  data = pd.read_csv(file_path, delim_whitespace=True)\n"
     ]
    }
   ],
   "source": [
    "import pandas as pd\n",
    "import matplotlib.pyplot as plt\n",
    "\n",
    "def read_and_plot(file_path, title):\n",
    "    data = pd.read_csv(file_path, delim_whitespace=True)\n",
    "    fig, ax1 = plt.subplots()\n",
    "\n",
    "    # Plot input and output voltages\n",
    "    ax1.set_xlabel('Time (s)')\n",
    "    ax1.set_ylabel('Voltage (V)')\n",
    "    ax1.plot(data['time'], data['V(n001)'], label='Input V(n001)', color='tab:green')\n",
    "    ax1.plot(data['time'], data['V(n003)'], label='Output V(n003)', color='tab:red')\n",
    "    ax1.tick_params(axis='y')\n",
    "    ax1.legend(loc='upper left')\n",
    "\n",
    "    # Try to find a current column to plot\n",
    "    current_cols = [col for col in data.columns if col.startswith('I(')]\n",
    "    if current_cols:\n",
    "        current_col = current_cols[0]\n",
    "        ax2 = ax1.twinx()\n",
    "        ax2.set_ylabel('Current (A)', color='tab:blue')\n",
    "        ax2.plot(data['time'], data[current_col], label=current_col, color='tab:blue')\n",
    "        ax2.tick_params(axis='y', labelcolor='tab:blue')\n",
    "        ax2.legend(loc='upper right')\n",
    "\n",
    "    plt.title(title)\n",
    "    fig.tight_layout()\n",
    "    plt.show()\n",
    "\n",
    "# Paths to the data files\n",
    "file_paths = {\n",
    "    '/home/art/school/ece2001/reports/report5/Circuit3.txt': 'Transient Response of RC Circuit with a Square Wave Input',\n",
    "    '/home/art/school/ece2001/reports/report5/Circuit4.txt': 'Transient Response of RC Circuit with a Short Time Constant and Square Wave Input',\n",
    "    '/home/art/school/ece2001/reports/report5/Circuit5.txt': 'Transient Response of RL Circuit with Square Wave Input'\n",
    "}\n",
    "\n",
    "# Read and plot each file\n",
    "for file_path, title in file_paths.items():\n",
    "    read_and_plot(file_path, title)\n"
   ]
  },
  {
   "cell_type": "code",
   "execution_count": 19,
   "metadata": {},
   "outputs": [],
   "source": [
    "import numpy as np\n",
    "import matplotlib.pyplot as plt\n",
    "\n",
    "# Parameters\n",
    "tau = 100\n",
    "t = np.linspace(0, 6 * tau, 500)\n",
    "v = 0 + (10 - 0) * np.exp(-t / tau)\n",
    "\n",
    "# Plot the exponential response\n",
    "plt.plot(t, v, label=r'$V(t) = 10e^{-t/\\tau})$')\n",
    "\n",
    "# Add vertical lines at each time constant\n",
    "for n in range(1, 6):\n",
    "    plt.axvline(x=n*tau, color='gray', linestyle='--', linewidth=0.8)\n",
    "    plt.text(n*tau, 0.5, f'{n}$\\\\tau$', ha='center', va='bottom', fontsize=9)\n",
    "\n",
    "# Labels and layout\n",
    "plt.title('Decaying Exponential Response with Time Constants')\n",
    "plt.xlabel('Time (s)')\n",
    "plt.ylabel('Voltage (V)')\n",
    "plt.grid(True)\n",
    "plt.legend()\n",
    "plt.tight_layout()\n",
    "plt.show()\n"
   ]
  },
  {
   "cell_type": "code",
   "execution_count": null,
   "metadata": {},
   "outputs": [],
   "source": []
  }
 ],
 "metadata": {
  "kernelspec": {
   "display_name": ".venv",
   "language": "python",
   "name": "python3"
  },
  "language_info": {
   "codemirror_mode": {
    "name": "ipython",
    "version": 3
   },
   "file_extension": ".py",
   "mimetype": "text/x-python",
   "name": "python",
   "nbconvert_exporter": "python",
   "pygments_lexer": "ipython3",
   "version": "3.12.7"
  }
 },
 "nbformat": 4,
 "nbformat_minor": 2
}
