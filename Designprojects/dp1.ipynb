{
 "cells": [
  {
   "cell_type": "code",
   "execution_count": 1,
   "metadata": {},
   "outputs": [],
   "source": [
    "import pandas as pd\n",
    "import numpy as np\n",
    "import matplotlib.pyplot as plt\n",
    "%matplotlib qt"
   ]
  },
  {
   "cell_type": "code",
   "execution_count": 4,
   "metadata": {},
   "outputs": [],
   "source": [
    "FILE_NAME = \"/home/art/school/ECE2001-Electrical-Circuits/Designprojects/design1/LTSpiceMusic.txt\"\n",
    "SCOPY_FILE = \"/home/art/school/ECE2001-Electrical-Circuits/Designprojects/design1/scopygainmusic.csv\"\n",
    "\n",
    "df_scopy = pd.read_csv(SCOPY_FILE, skiprows=6, delimiter=\",\", header=0)\n",
    "\n",
    "df = pd.read_csv(FILE_NAME, delimiter=\"\\t\", skiprows=1, encoding=\"ISO-8859-1\", names=[\"Freq\", \"Magnitude\"])\n",
    "df[['Magnitude_dB', 'Phase_deg']] = df['Magnitude'].str.extract(r'\\((-?[\\d\\.e\\+]+)dB,(-?[\\d\\.e\\+]+)°\\)')\n",
    "\n",
    "df['Magnitude_dB'] = pd.to_numeric(df['Magnitude_dB'])\n",
    "df['Phase_deg'] = pd.to_numeric(df['Phase_deg'])\n",
    "df['Freq'] = pd.to_numeric(df['Freq'])\n",
    "df_scopy['Frequency(Hz)'] = pd.to_numeric(df_scopy['Frequency(Hz)'])\n",
    "df_scopy['Magnitude(dB)'] = pd.to_numeric(df_scopy['Magnitude(dB)'])\n",
    "df_scopy['Phase(°)'] = pd.to_numeric(df_scopy['Phase(°)'])\n",
    "\n",
    "df = df[df['Freq'] >= 100]\n",
    "scopy_magnitude_interp = np.interp(df['Freq'], df_scopy['Frequency(Hz)'], df_scopy['Magnitude(dB)'])\n",
    "scopy_phase_interp = np.interp(df['Freq'], df_scopy['Frequency(Hz)'], df_scopy['Phase(°)'])\n",
    "\n",
    "fig, ax = plt.subplots(2, 1, figsize=(8, 6), sharex=True)\n",
    "\n",
    "ax[0].plot(df['Freq'], df['Magnitude_dB'], label=\"LTSpice Simulated Magnitude (dB)\", color='b')\n",
    "ax[0].plot(df['Freq'], scopy_magnitude_interp, label=\"Scopy Measured Magnitude (dB)\", color='g', linestyle='dashed')\n",
    "ax[0].set_ylabel(\"Magnitude (dB)\")\n",
    "ax[0].set_title(\"Bode Plot (LTSpice vs Scopy)\")\n",
    "ax[0].legend()\n",
    "ax[0].grid(True)\n",
    "\n",
    "ax[1].plot(df['Freq'], df['Phase_deg'], label=\"LTSpice Simulated Phase (°)\", color='r')\n",
    "ax[1].plot(df['Freq'], scopy_phase_interp, label=\"Scopy Measured Phase (°)\", color='orange', linestyle='dashed')\n",
    "ax[1].set_xlabel(\"Frequency (Hz)\")\n",
    "ax[1].set_ylabel(\"Phase (°)\")\n",
    "ax[1].legend()\n",
    "ax[1].grid(True)\n",
    "\n",
    "plt.show()"
   ]
  },
  {
   "cell_type": "code",
   "execution_count": 5,
   "metadata": {},
   "outputs": [],
   "source": [
    "FILE_NAME2 = \"/home/art/school/ECE2001-Electrical-Circuits/Designprojects/design1/LTSpiceMic.txt\"\n",
    "SCOPY_FILE2 = \"/home/art/school/ECE2001-Electrical-Circuits/Designprojects/design1/scopygainmic.csv\"\n",
    "\n",
    "df_scopy = pd.read_csv(SCOPY_FILE2, skiprows=6, delimiter=\",\", header=0)\n",
    "\n",
    "df = pd.read_csv(FILE_NAME2, delimiter=\"\\t\", skiprows=1, encoding=\"ISO-8859-1\", names=[\"Freq\", \"Magnitude\"])\n",
    "df[['Magnitude_dB', 'Phase_deg']] = df['Magnitude'].str.extract(r'\\((-?[\\d\\.e\\+]+)dB,(-?[\\d\\.e\\+]+)°\\)')\n",
    "\n",
    "df['Magnitude_dB'] = pd.to_numeric(df['Magnitude_dB'])\n",
    "df['Phase_deg'] = pd.to_numeric(df['Phase_deg'])\n",
    "df['Freq'] = pd.to_numeric(df['Freq'])\n",
    "df_scopy['Frequency(Hz)'] = pd.to_numeric(df_scopy['Frequency(Hz)'])\n",
    "df_scopy['Magnitude(dB)'] = pd.to_numeric(df_scopy['Magnitude(dB)'])\n",
    "df_scopy['Phase(°)'] = pd.to_numeric(df_scopy['Phase(°)'])\n",
    "\n",
    "df = df[df['Freq'] >= 100]\n",
    "scopy_magnitude_interp = np.interp(df['Freq'], df_scopy['Frequency(Hz)'], df_scopy['Magnitude(dB)'])\n",
    "scopy_phase_interp = np.interp(df['Freq'], df_scopy['Frequency(Hz)'], df_scopy['Phase(°)'])\n",
    "\n",
    "fig, ax = plt.subplots(2, 1, figsize=(8, 6), sharex=True)\n",
    "\n",
    "ax[0].plot(df['Freq'], df['Magnitude_dB'], label=\"LTSpice Simulated Magnitude (dB)\", color='b')\n",
    "ax[0].plot(df['Freq'], scopy_magnitude_interp, label=\"Scopy Measured Magnitude (dB)\", color='g', linestyle='dashed')\n",
    "ax[0].set_ylabel(\"Magnitude (dB)\")\n",
    "ax[0].set_title(\"Bode Plot (LTSpice vs Scopy)\")\n",
    "ax[0].legend()\n",
    "ax[0].grid(True)\n",
    "\n",
    "ax[1].plot(df['Freq'], df['Phase_deg'], label=\"LTSpice Simulated Phase (°)\", color='r')\n",
    "ax[1].plot(df['Freq'], scopy_phase_interp, label=\"Scopy Measured Phase (°)\", color='orange', linestyle='dashed')\n",
    "ax[1].set_xlabel(\"Frequency (Hz)\")\n",
    "ax[1].set_ylabel(\"Phase (°)\")\n",
    "ax[1].legend()\n",
    "ax[1].grid(True)\n",
    "\n",
    "plt.show()"
   ]
  }
 ],
 "metadata": {
  "kernelspec": {
   "display_name": ".venv",
   "language": "python",
   "name": "python3"
  },
  "language_info": {
   "codemirror_mode": {
    "name": "ipython",
    "version": 3
   },
   "file_extension": ".py",
   "mimetype": "text/x-python",
   "name": "python",
   "nbconvert_exporter": "python",
   "pygments_lexer": "ipython3",
   "version": "3.12.7"
  }
 },
 "nbformat": 4,
 "nbformat_minor": 2
}
